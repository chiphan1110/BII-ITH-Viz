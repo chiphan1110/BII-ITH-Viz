{
 "cells": [
  {
   "cell_type": "code",
   "execution_count": 1,
   "metadata": {},
   "outputs": [],
   "source": [
    "import os\n",
    "import json\n",
    "import pandas as pd"
   ]
  },
  {
   "cell_type": "code",
   "execution_count": 2,
   "metadata": {},
   "outputs": [],
   "source": [
    "def generate_file_dicts(dir):\n",
    "    json_files = {}\n",
    "    sorted_filenames = sorted(os.listdir(dir), key= lambda x: len(x))\n",
    "    for filename in sorted_filenames:\n",
    "        if filename.endswith(\".json\"):\n",
    "            key_name = filename.replace('.json', '')\n",
    "            file_path = os.path.join(dir, filename)\n",
    "            json_files[key_name] = file_path\n",
    "    \n",
    "    return json_files       "
   ]
  },
  {
   "cell_type": "code",
   "execution_count": 4,
   "metadata": {},
   "outputs": [],
   "source": [
    "def calculate_error(json_file, target):\n",
    "    with open(json_file, 'r') as f:\n",
    "        data = json.load(f)\n",
    "\n",
    "    errors = []\n",
    "\n",
    "    for _, value in data.items():\n",
    "        pred = value.get(target, {}).get('pred')\n",
    "        label = value.get(target, {}).get('label')\n",
    "        if pred is None or label is None:\n",
    "            continue\n",
    "        error = round((pred - label), 3)\n",
    "        errors.append(error)   \n",
    "    return errors\n",
    "\n",
    "def calculate_abs_error(json_file, target):\n",
    "    with open(json_file, 'r') as f:\n",
    "        data = json.load(f)\n",
    "\n",
    "    abs_error = []\n",
    "\n",
    "    for _, value in data.items():\n",
    "        pred = value.get(target, {}).get('pred')\n",
    "        label = value.get(target, {}).get('label')\n",
    "        if pred is None or label is None:\n",
    "            continue\n",
    "        error = round(abs(pred - label), 3)\n",
    "        abs_error.append(error)   \n",
    "    return abs_error\n"
   ]
  },
  {
   "cell_type": "code",
   "execution_count": 6,
   "metadata": {},
   "outputs": [],
   "source": [
    "def numerical_task_error(classifiers):\n",
    "    purity_errors = {}\n",
    "    fga_errors = {}\n",
    "\n",
    "    for classifier_name, json_file in classifiers.items():\n",
    "        if 'Purity' in classifier_name:\n",
    "            purity_errors[classifier_name] = calculate_error(json_file, \"purity\")\n",
    "        if 'FGA' in classifier_name:\n",
    "            fga_errors[classifier_name] = calculate_error(json_file, \"FRACTION_GENOME_ALTERED\")\n",
    "\n",
    "    return pd.DataFrame(purity_errors), pd.DataFrame(fga_errors)"
   ]
  },
  {
   "cell_type": "code",
   "execution_count": 7,
   "metadata": {},
   "outputs": [],
   "source": [
    "def categorical_task_error(classifiers):\n",
    "    subtyping = {}\n",
    "    staging = {}\n",
    "\n",
    "    for classifier_name, json_file in classifiers.items():\n",
    "        if 'lung-cancer-subtyping' in classifier_name:\n",
    "            subtyping.add(classifiers['lung-cancer-subtyping']['label'])\n",
    "        if 'AJCC_PATHOLOGIC_TUMOR_STAGE_reduced' in classifier_name:\n",
    "            staging.add(classifiers['AJCC_PATHOLOGIC_TUMOR_STAGE_reduced']['label'])\n",
    "\n",
    "    return subtyping, staging        "
   ]
  },
  {
   "cell_type": "code",
   "execution_count": 9,
   "metadata": {},
   "outputs": [
    {
     "data": {
      "text/plain": [
       "{}"
      ]
     },
     "execution_count": 9,
     "metadata": {},
     "output_type": "execute_result"
    }
   ],
   "source": [
    "subtyping, staging = categorical_task_error(generate_file_dicts('data'))\n",
    "subtyping"
   ]
  },
  {
   "cell_type": "code",
   "execution_count": null,
   "metadata": {},
   "outputs": [],
   "source": [
    "json_dir = 'data'\n",
    "json_files = generate_file_dicts(json_dir)\n",
    "\n",
    "purity_errors, fga_errors = numerical_task_error(json_files)\n",
    "purity_errors.to_csv('error/purity.csv', index_label='Sample')\n",
    "fga_errors.to_csv('error/fga.csv', index_label='Sample')"
   ]
  }
 ],
 "metadata": {
  "kernelspec": {
   "display_name": "Python 3",
   "language": "python",
   "name": "python3"
  },
  "language_info": {
   "codemirror_mode": {
    "name": "ipython",
    "version": 3
   },
   "file_extension": ".py",
   "mimetype": "text/x-python",
   "name": "python",
   "nbconvert_exporter": "python",
   "pygments_lexer": "ipython3",
   "version": "3.8.0"
  }
 },
 "nbformat": 4,
 "nbformat_minor": 2
}
