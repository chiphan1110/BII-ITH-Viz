{
 "cells": [
  {
   "cell_type": "code",
   "execution_count": 5,
   "metadata": {},
   "outputs": [],
   "source": [
    "import json\n",
    "from collections import defaultdict\n",
    "import matplotlib.pyplot as plt\n",
    "import seaborn as sns\n",
    "\n",
    "import numpy as np"
   ]
  },
  {
   "cell_type": "markdown",
   "metadata": {},
   "source": [
    "## Read data"
   ]
  },
  {
   "cell_type": "code",
   "execution_count": 14,
   "metadata": {},
   "outputs": [
    {
     "data": {
      "text/html": [
       "<div>\n",
       "<style scoped>\n",
       "    .dataframe tbody tr th:only-of-type {\n",
       "        vertical-align: middle;\n",
       "    }\n",
       "\n",
       "    .dataframe tbody tr th {\n",
       "        vertical-align: top;\n",
       "    }\n",
       "\n",
       "    .dataframe thead th {\n",
       "        text-align: right;\n",
       "    }\n",
       "</style>\n",
       "<table border=\"1\" class=\"dataframe\">\n",
       "  <thead>\n",
       "    <tr style=\"text-align: right;\">\n",
       "      <th></th>\n",
       "      <th>lung-cancer-subtyping</th>\n",
       "      <th>AJCC_PATHOLOGIC_TUMOR_STAGE_reduced</th>\n",
       "      <th>purity</th>\n",
       "      <th>FRACTION_GENOME_ALTERED</th>\n",
       "    </tr>\n",
       "  </thead>\n",
       "  <tbody>\n",
       "    <tr>\n",
       "      <th>0</th>\n",
       "      <td>lusc</td>\n",
       "      <td>Early Stage</td>\n",
       "      <td>0.48</td>\n",
       "      <td>0.2702</td>\n",
       "    </tr>\n",
       "    <tr>\n",
       "      <th>1</th>\n",
       "      <td>lusc</td>\n",
       "      <td>Early Stage</td>\n",
       "      <td>0.48</td>\n",
       "      <td>0.2702</td>\n",
       "    </tr>\n",
       "    <tr>\n",
       "      <th>2</th>\n",
       "      <td>normal</td>\n",
       "      <td>None</td>\n",
       "      <td>0.00</td>\n",
       "      <td>NaN</td>\n",
       "    </tr>\n",
       "    <tr>\n",
       "      <th>3</th>\n",
       "      <td>normal</td>\n",
       "      <td>None</td>\n",
       "      <td>0.00</td>\n",
       "      <td>NaN</td>\n",
       "    </tr>\n",
       "    <tr>\n",
       "      <th>4</th>\n",
       "      <td>lusc</td>\n",
       "      <td>Early Stage</td>\n",
       "      <td>0.29</td>\n",
       "      <td>0.2552</td>\n",
       "    </tr>\n",
       "    <tr>\n",
       "      <th>...</th>\n",
       "      <td>...</td>\n",
       "      <td>...</td>\n",
       "      <td>...</td>\n",
       "      <td>...</td>\n",
       "    </tr>\n",
       "    <tr>\n",
       "      <th>407</th>\n",
       "      <td>lusc</td>\n",
       "      <td>Late Stage</td>\n",
       "      <td>0.53</td>\n",
       "      <td>0.3365</td>\n",
       "    </tr>\n",
       "    <tr>\n",
       "      <th>408</th>\n",
       "      <td>luad</td>\n",
       "      <td>Early Stage</td>\n",
       "      <td>0.50</td>\n",
       "      <td>0.5443</td>\n",
       "    </tr>\n",
       "    <tr>\n",
       "      <th>409</th>\n",
       "      <td>lusc</td>\n",
       "      <td>Late Stage</td>\n",
       "      <td>0.52</td>\n",
       "      <td>0.4490</td>\n",
       "    </tr>\n",
       "    <tr>\n",
       "      <th>410</th>\n",
       "      <td>lusc</td>\n",
       "      <td>Late Stage</td>\n",
       "      <td>0.75</td>\n",
       "      <td>0.5598</td>\n",
       "    </tr>\n",
       "    <tr>\n",
       "      <th>411</th>\n",
       "      <td>lusc</td>\n",
       "      <td>Early Stage</td>\n",
       "      <td>0.36</td>\n",
       "      <td>0.5420</td>\n",
       "    </tr>\n",
       "  </tbody>\n",
       "</table>\n",
       "<p>412 rows × 4 columns</p>\n",
       "</div>"
      ],
      "text/plain": [
       "    lung-cancer-subtyping AJCC_PATHOLOGIC_TUMOR_STAGE_reduced  purity  \\\n",
       "0                    lusc                         Early Stage    0.48   \n",
       "1                    lusc                         Early Stage    0.48   \n",
       "2                  normal                                None    0.00   \n",
       "3                  normal                                None    0.00   \n",
       "4                    lusc                         Early Stage    0.29   \n",
       "..                    ...                                 ...     ...   \n",
       "407                  lusc                          Late Stage    0.53   \n",
       "408                  luad                         Early Stage    0.50   \n",
       "409                  lusc                          Late Stage    0.52   \n",
       "410                  lusc                          Late Stage    0.75   \n",
       "411                  lusc                         Early Stage    0.36   \n",
       "\n",
       "     FRACTION_GENOME_ALTERED  \n",
       "0                     0.2702  \n",
       "1                     0.2702  \n",
       "2                        NaN  \n",
       "3                        NaN  \n",
       "4                     0.2552  \n",
       "..                       ...  \n",
       "407                   0.3365  \n",
       "408                   0.5443  \n",
       "409                   0.4490  \n",
       "410                   0.5598  \n",
       "411                   0.5420  \n",
       "\n",
       "[412 rows x 4 columns]"
      ]
     },
     "execution_count": 14,
     "metadata": {},
     "output_type": "execute_result"
    }
   ],
   "source": [
    "import pandas as pd\n",
    "data = json.load(open(json_path, 'r'))\n",
    "df = pd.DataFrame(data).T[['lung-cancer-subtyping', 'AJCC_PATHOLOGIC_TUMOR_STAGE_reduced', 'purity', 'FRACTION_GENOME_ALTERED']]\n",
    "df.columns = ['lung-cancer-subtyping', 'AJCC_PATHOLOGIC_TUMOR_STAGE_reduced', 'purity', 'FRACTION_GENOME_ALTERED']\n",
    "df = df.apply(lambda x: x.apply(lambda y: y['label'] if isinstance(y, dict) else y))\n",
    "df"
   ]
  },
  {
   "cell_type": "code",
   "execution_count": 15,
   "metadata": {},
   "outputs": [],
   "source": [
    "df.to_csv('label_stats.csv')"
   ]
  },
  {
   "cell_type": "markdown",
   "metadata": {},
   "source": [
    "## Label statistics"
   ]
  },
  {
   "cell_type": "code",
   "execution_count": 7,
   "metadata": {},
   "outputs": [],
   "source": [
    "json_path = '/home/phanthc/Chi/Code/BII-ITH-Viz/data/Subtyping-Staging-Purity-FGA.json'\n",
    "data = json.load(open(json_path, 'r'))"
   ]
  },
  {
   "cell_type": "code",
   "execution_count": null,
   "metadata": {},
   "outputs": [],
   "source": [
    "label_counts = defaultdict(lambda: defaultdict(int))\n",
    "continuous_data = defaultdict(list)"
   ]
  },
  {
   "cell_type": "code",
   "execution_count": null,
   "metadata": {},
   "outputs": [
    {
     "name": "stdout",
     "output_type": "stream",
     "text": [
      "defaultdict(<class 'int'>, {'lusc': 166, 'normal': 92, None: 8, 'luad': 146})\n",
      "defaultdict(<class 'int'>, {'Early Stage': 258, None: 105, 'Late Stage': 49})\n",
      "412\n",
      "412\n"
     ]
    }
   ],
   "source": [
    "for _, tasks in data.items():\n",
    "    for task_name, task_data in tasks.items():\n",
    "        if task_name == \"lung-cancer-subtyping\" or task_name == \"AJCC_PATHOLOGIC_TUMOR_STAGE_reduced\":\n",
    "            label_counts[task_name][task_data['label']] += 1            \n",
    "        else:\n",
    "            continuous_data[task_name].append(task_data['label'])\n",
    "\n",
    "print(label_counts[\"lung-cancer-subtyping\"])\n",
    "print((label_counts['AJCC_PATHOLOGIC_TUMOR_STAGE_reduced']))\n",
    "print(len(continuous_data['purity']))\n",
    "print(len(continuous_data['FRACTION_GENOME_ALTERED']))\n"
   ]
  },
  {
   "cell_type": "code",
   "execution_count": 120,
   "metadata": {},
   "outputs": [
    {
     "name": "stdout",
     "output_type": "stream",
     "text": [
      "defaultdict(<class 'int'>, {'lusc': 166, 'normal': 92, None: 8, 'luad': 146})\n"
     ]
    }
   ],
   "source": [
    "subtyping = label_counts[\"lung-cancer-subtyping\"]\n",
    "print(subtyping)"
   ]
  },
  {
   "cell_type": "code",
   "execution_count": 103,
   "metadata": {},
   "outputs": [
    {
     "data": {
      "text/plain": [
       "defaultdict(int, {'Early Stage': 258, None: 105, 'Late Stage': 49})"
      ]
     },
     "execution_count": 103,
     "metadata": {},
     "output_type": "execute_result"
    }
   ],
   "source": [
    "label_counts['AJCC_PATHOLOGIC_TUMOR_STAGE_reduced']"
   ]
  },
  {
   "cell_type": "markdown",
   "metadata": {},
   "source": [
    "## Purity distribution"
   ]
  },
  {
   "cell_type": "code",
   "execution_count": 104,
   "metadata": {},
   "outputs": [],
   "source": [
    "purity_values = continuous_data[\"purity\"]"
   ]
  },
  {
   "cell_type": "code",
   "execution_count": 105,
   "metadata": {},
   "outputs": [
    {
     "name": "stdout",
     "output_type": "stream",
     "text": [
      "Number of null values: 14\n",
      "Number of non-null values: 398\n"
     ]
    }
   ],
   "source": [
    "filtered_purity_values = [value for value in purity_values if value is not None]\n",
    "num_null_values = len(purity_values) - len(filtered_purity_values)\n",
    "print(f\"Number of null values: {num_null_values}\")\n",
    "print(f\"Number of non-null values: {len(filtered_purity_values)}\")"
   ]
  },
  {
   "cell_type": "code",
   "execution_count": 125,
   "metadata": {},
   "outputs": [
    {
     "data": {
      "image/png": "[encoded data removed]",
      "text/plain": [
       "<Figure size 640x480 with 1 Axes>"
      ]
     },
     "metadata": {},
     "output_type": "display_data"
    }
   ],
   "source": [
    "fig, axes = plt.subplots()\n",
    "sns.histplot(data=filtered_purity_values, ax=axes, bins=20)\n",
    "axes.set_xlabel('Purity Value',fontsize=14)\n",
    "axes.set_ylabel('Frequency',fontsize=14)\n",
    "axes.set_xlim(-0.05, 1)\n",
    "# plt.title(\"Distribution of Purity (Excluding Null Values)\", wrap=True,fontsize=14)\n",
    "plt.show()\n",
    "# axes.yaxis.grid(True)\n",
    "# axes.xaxis.grid(True)"
   ]
  },
  {
   "cell_type": "markdown",
   "metadata": {},
   "source": [
    "## FGA Distribution"
   ]
  },
  {
   "cell_type": "code",
   "execution_count": 106,
   "metadata": {},
   "outputs": [],
   "source": [
    "fga_values = continuous_data[\"FRACTION_GENOME_ALTERED\"]"
   ]
  },
  {
   "cell_type": "code",
   "execution_count": 107,
   "metadata": {},
   "outputs": [
    {
     "name": "stdout",
     "output_type": "stream",
     "text": [
      "Number of null values: 101\n",
      "Number of non-null values: 311\n"
     ]
    }
   ],
   "source": [
    "filtered_fga_values = [value for value in fga_values if value is not None]\n",
    "num_null_values = len(purity_values) - len(filtered_fga_values)\n",
    "print(f\"Number of null values: {num_null_values}\")\n",
    "print(f\"Number of non-null values: {len(filtered_fga_values)}\")"
   ]
  },
  {
   "cell_type": "code",
   "execution_count": 126,
   "metadata": {},
   "outputs": [
    {
     "data": {
      "image/png": "[encoded data removed]",
      "text/plain": [
       "<Figure size 640x480 with 1 Axes>"
      ]
     },
     "metadata": {},
     "output_type": "display_data"
    }
   ],
   "source": [
    "fig, axes = plt.subplots()\n",
    "sns.histplot(data=filtered_fga_values, ax=axes, bins=20)\n",
    "axes.set_xlabel('FGA Value',fontsize=14)\n",
    "axes.set_ylabel('Frequency',fontsize=14)\n",
    "axes.set_xlim(-0.05, 1)\n",
    "# plt.title(\"Distribution of FGA (Excluding Null Values)\", wrap=True,fontsize=14)\n",
    "plt.show()\n",
    "# axes.yaxis.grid(True)\n",
    "# axes.xaxis.grid(True)"
   ]
  },
  {
   "cell_type": "markdown",
   "metadata": {},
   "source": [
    "## Purity-FGA Correlation"
   ]
  },
  {
   "cell_type": "code",
   "execution_count": 129,
   "metadata": {},
   "outputs": [],
   "source": [
    "purity_values = []\n",
    "fga_values = []\n",
    "\n",
    "for key, value in data.items():\n",
    "    purity = value.get(\"purity\", {}).get(\"label\")\n",
    "    fga = value.get(\"FRACTION_GENOME_ALTERED\", {}).get(\"label\")\n",
    "    \n",
    "    if purity is not None and fga is not None:\n",
    "        purity_values.append(purity)\n",
    "        fga_values.append(fga)\n",
    "\n"
   ]
  },
  {
   "cell_type": "code",
   "execution_count": 149,
   "metadata": {},
   "outputs": [
    {
     "data": {
      "image/png": "[encoded data removed]",
      "text/plain": [
       "<Figure size 600x600 with 1 Axes>"
      ]
     },
     "metadata": {},
     "output_type": "display_data"
    }
   ],
   "source": [
    "fit = np.polyfit(purity_values, fga_values, 1)\n",
    "fit_fn = np.poly1d(fit)\n",
    "\n",
    "plt.figure(figsize=(6, 6))\n",
    "plt.scatter(purity_values, fga_values, alpha=0.6)\n",
    "plt.plot(purity_values, fit_fn(purity_values), 'r--')\n",
    "\n",
    "plt.xlim((-0.05, 1.05))\n",
    "plt.xticks(np.arange(0, 1.05, 0.2))\n",
    "plt.ylim((-0.05, 1.05))\n",
    "plt.yticks(np.arange(0, 1.05, 0.2))\n",
    "plt.title(r\"Correlation coefficient $\\rho$ = 0.65\", fontsize=14)\n",
    "plt.xlabel('Purity', fontsize=14)\n",
    "plt.ylabel('Fraction Genome Altered (FGA)', fontsize=14)\n",
    "plt.grid(True)\n",
    "plt.tight_layout()\n",
    "plt.show()"
   ]
  },
  {
   "cell_type": "code",
   "execution_count": 144,
   "metadata": {},
   "outputs": [
    {
     "name": "stdout",
     "output_type": "stream",
     "text": [
      "Correlation coefficient: 0.6456014713971948\n"
     ]
    }
   ],
   "source": [
    "# Calculating the correlation coefficient\n",
    "correlation_coefficient = np.corrcoef(purity_values, fga_values)[0, 1]\n",
    "print(f\"Correlation coefficient: {correlation_coefficient}\")"
   ]
  },
  {
   "cell_type": "markdown",
   "metadata": {},
   "source": [
    "## Staging"
   ]
  },
  {
   "cell_type": "code",
   "execution_count": 13,
   "metadata": {},
   "outputs": [
    {
     "data": {
      "text/html": [
       "<div>\n",
       "<style scoped>\n",
       "    .dataframe tbody tr th:only-of-type {\n",
       "        vertical-align: middle;\n",
       "    }\n",
       "\n",
       "    .dataframe tbody tr th {\n",
       "        vertical-align: top;\n",
       "    }\n",
       "\n",
       "    .dataframe thead th {\n",
       "        text-align: right;\n",
       "    }\n",
       "</style>\n",
       "<table border=\"1\" class=\"dataframe\">\n",
       "  <thead>\n",
       "    <tr style=\"text-align: right;\">\n",
       "      <th></th>\n",
       "      <th>lung-cancer-subtyping</th>\n",
       "      <th>AJCC_PATHOLOGIC_TUMOR_STAGE_reduced</th>\n",
       "      <th>purity</th>\n",
       "      <th>FRACTION_GENOME_ALTERED</th>\n",
       "    </tr>\n",
       "  </thead>\n",
       "  <tbody>\n",
       "    <tr>\n",
       "      <th>0</th>\n",
       "      <td>lusc</td>\n",
       "      <td>Early Stage</td>\n",
       "      <td>0.48</td>\n",
       "      <td>0.2702</td>\n",
       "    </tr>\n",
       "    <tr>\n",
       "      <th>1</th>\n",
       "      <td>lusc</td>\n",
       "      <td>Early Stage</td>\n",
       "      <td>0.48</td>\n",
       "      <td>0.2702</td>\n",
       "    </tr>\n",
       "    <tr>\n",
       "      <th>2</th>\n",
       "      <td>normal</td>\n",
       "      <td>None</td>\n",
       "      <td>0.00</td>\n",
       "      <td>NaN</td>\n",
       "    </tr>\n",
       "    <tr>\n",
       "      <th>3</th>\n",
       "      <td>normal</td>\n",
       "      <td>None</td>\n",
       "      <td>0.00</td>\n",
       "      <td>NaN</td>\n",
       "    </tr>\n",
       "    <tr>\n",
       "      <th>4</th>\n",
       "      <td>lusc</td>\n",
       "      <td>Early Stage</td>\n",
       "      <td>0.29</td>\n",
       "      <td>0.2552</td>\n",
       "    </tr>\n",
       "    <tr>\n",
       "      <th>...</th>\n",
       "      <td>...</td>\n",
       "      <td>...</td>\n",
       "      <td>...</td>\n",
       "      <td>...</td>\n",
       "    </tr>\n",
       "    <tr>\n",
       "      <th>407</th>\n",
       "      <td>lusc</td>\n",
       "      <td>Late Stage</td>\n",
       "      <td>0.53</td>\n",
       "      <td>0.3365</td>\n",
       "    </tr>\n",
       "    <tr>\n",
       "      <th>408</th>\n",
       "      <td>luad</td>\n",
       "      <td>Early Stage</td>\n",
       "      <td>0.50</td>\n",
       "      <td>0.5443</td>\n",
       "    </tr>\n",
       "    <tr>\n",
       "      <th>409</th>\n",
       "      <td>lusc</td>\n",
       "      <td>Late Stage</td>\n",
       "      <td>0.52</td>\n",
       "      <td>0.4490</td>\n",
       "    </tr>\n",
       "    <tr>\n",
       "      <th>410</th>\n",
       "      <td>lusc</td>\n",
       "      <td>Late Stage</td>\n",
       "      <td>0.75</td>\n",
       "      <td>0.5598</td>\n",
       "    </tr>\n",
       "    <tr>\n",
       "      <th>411</th>\n",
       "      <td>lusc</td>\n",
       "      <td>Early Stage</td>\n",
       "      <td>0.36</td>\n",
       "      <td>0.5420</td>\n",
       "    </tr>\n",
       "  </tbody>\n",
       "</table>\n",
       "<p>412 rows × 4 columns</p>\n",
       "</div>"
      ],
      "text/plain": [
       "    lung-cancer-subtyping AJCC_PATHOLOGIC_TUMOR_STAGE_reduced  purity  \\\n",
       "0                    lusc                         Early Stage    0.48   \n",
       "1                    lusc                         Early Stage    0.48   \n",
       "2                  normal                                None    0.00   \n",
       "3                  normal                                None    0.00   \n",
       "4                    lusc                         Early Stage    0.29   \n",
       "..                    ...                                 ...     ...   \n",
       "407                  lusc                          Late Stage    0.53   \n",
       "408                  luad                         Early Stage    0.50   \n",
       "409                  lusc                          Late Stage    0.52   \n",
       "410                  lusc                          Late Stage    0.75   \n",
       "411                  lusc                         Early Stage    0.36   \n",
       "\n",
       "     FRACTION_GENOME_ALTERED  \n",
       "0                     0.2702  \n",
       "1                     0.2702  \n",
       "2                        NaN  \n",
       "3                        NaN  \n",
       "4                     0.2552  \n",
       "..                       ...  \n",
       "407                   0.3365  \n",
       "408                   0.5443  \n",
       "409                   0.4490  \n",
       "410                   0.5598  \n",
       "411                   0.5420  \n",
       "\n",
       "[412 rows x 4 columns]"
      ]
     },
     "execution_count": 13,
     "metadata": {},
     "output_type": "execute_result"
    }
   ],
   "source": [
    "\n"
   ]
  },
  {
   "cell_type": "markdown",
   "metadata": {},
   "source": [
    "## Subtyping"
   ]
  }
 ],
 "metadata": {
  "kernelspec": {
   "display_name": "plot-errors",
   "language": "python",
   "name": "python3"
  },
  "language_info": {
   "codemirror_mode": {
    "name": "ipython",
    "version": 3
   },
   "file_extension": ".py",
   "mimetype": "text/x-python",
   "name": "python",
   "nbconvert_exporter": "python",
   "pygments_lexer": "ipython3",
   "version": "3.10.13"
  }
 },
 "nbformat": 4,
 "nbformat_minor": 2
}
